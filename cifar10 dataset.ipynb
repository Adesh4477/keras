{
 "cells": [
  {
   "cell_type": "code",
   "execution_count": 1,
   "metadata": {},
   "outputs": [],
   "source": [
    "from tensorflow.keras.datasets import cifar10"
   ]
  },
  {
   "cell_type": "code",
   "execution_count": 2,
   "metadata": {},
   "outputs": [],
   "source": [
    "(x_train,y_train),(x_test,y_test)=cifar10.load_data()"
   ]
  },
  {
   "cell_type": "code",
   "execution_count": 3,
   "metadata": {},
   "outputs": [],
   "source": [
    "import matplotlib.pyplot as plt\n",
    "import matplotlib"
   ]
  },
  {
   "cell_type": "code",
   "execution_count": 4,
   "metadata": {},
   "outputs": [
    {
     "data": {
      "text/plain": [
       "array([0, 1, 2, 3, 4, 5, 6, 7, 8, 9], dtype=uint8)"
      ]
     },
     "execution_count": 4,
     "metadata": {},
     "output_type": "execute_result"
    }
   ],
   "source": [
    "import numpy as np\n",
    "y_train[0]#integers output\n",
    "np.unique(np.array(y_train))"
   ]
  },
  {
   "cell_type": "code",
   "execution_count": 5,
   "metadata": {},
   "outputs": [
    {
     "data": {
      "text/plain": [
       "(50000, 10)"
      ]
     },
     "execution_count": 5,
     "metadata": {},
     "output_type": "execute_result"
    }
   ],
   "source": [
    "from tensorflow.keras.utils import to_categorical\n",
    "y_train=to_categorical(y_train)\n",
    "y_train.shape"
   ]
  },
  {
   "cell_type": "code",
   "execution_count": null,
   "metadata": {},
   "outputs": [],
   "source": []
  },
  {
   "cell_type": "code",
   "execution_count": 6,
   "metadata": {},
   "outputs": [
    {
     "data": {
      "text/plain": [
       "(-0.5, 31.5, 31.5, -0.5)"
      ]
     },
     "execution_count": 6,
     "metadata": {},
     "output_type": "execute_result"
    },
    {
     "data": {
      "image/png": "[encoded data removed]",
      "text/plain": [
       "<Figure size 432x288 with 1 Axes>"
      ]
     },
     "metadata": {
      "needs_background": "light"
     },
     "output_type": "display_data"
    }
   ],
   "source": [
    "plt.imshow(x_train[2],interpolation=\"nearest\")\n",
    "plt.axis(\"off\")"
   ]
  },
  {
   "cell_type": "code",
   "execution_count": 7,
   "metadata": {},
   "outputs": [],
   "source": [
    "from tensorflow.keras import models,layers,initializers\n",
    "he_init=initializers.VarianceScaling()"
   ]
  },
  {
   "cell_type": "code",
   "execution_count": 8,
   "metadata": {},
   "outputs": [],
   "source": [
    "from tensorflow.keras import regularizers\n",
    "l1_l2=regularizers.l1_l2()"
   ]
  },
  {
   "cell_type": "code",
   "execution_count": 9,
   "metadata": {},
   "outputs": [],
   "source": [
    "model=models.Sequential()"
   ]
  },
  {
   "cell_type": "code",
   "execution_count": 10,
   "metadata": {},
   "outputs": [],
   "source": [
    "model.add(layers.Conv2D(32,(3,3),activation=\"relu\",input_shape=(32,32,3)))\n",
    "model.add(layers.MaxPooling2D((2,2)))\n",
    "model.add(layers.Conv2D(64,(3,3),strides=2,kernel_regularizer=l1_l2,activation=\"relu\"))\n",
    "model.add(layers.MaxPooling2D((2,2)))"
   ]
  },
  {
   "cell_type": "code",
   "execution_count": 11,
   "metadata": {},
   "outputs": [],
   "source": [
    "model.add(layers.Flatten())\n",
    "model.add(layers.Dense(64,activation=\"relu\",kernel_regularizer=l1_l2,kernel_initializer=he_init))\n",
    "model.add(layers.Dropout(rate=0.5))      \n",
    "model.add(layers.Dense(10,activation=\"relu\"))"
   ]
  },
  {
   "cell_type": "code",
   "execution_count": 12,
   "metadata": {},
   "outputs": [],
   "source": [
    "model.compile(optimizer=\"rmsprop\",loss=\"categorical_crossentropy\",metrics=[\"accuracy\"])"
   ]
  },
  {
   "cell_type": "code",
   "execution_count": 13,
   "metadata": {},
   "outputs": [],
   "source": [
    "x_val=x_train[:15000]\n",
    "y_val=y_train[:15000]\n",
    "x_train_partial=x_train[15000:]\n",
    "y_train_partial=y_train[15000:]"
   ]
  },
  {
   "cell_type": "code",
   "execution_count": 14,
   "metadata": {},
   "outputs": [],
   "source": [
    "import tensorflow as tf"
   ]
  },
  {
   "cell_type": "code",
   "execution_count": 16,
   "metadata": {},
   "outputs": [],
   "source": [
    "with tf.device(\"/gpu:0\"):\n",
    "    history=model.fit(x_train_partial,y_train_partial,batch_size=128,epochs=20,validation_data=[x_val,y_val],verbose=0)"
   ]
  },
  {
   "cell_type": "code",
   "execution_count": 17,
   "metadata": {},
   "outputs": [],
   "source": [
    "data=history.history"
   ]
  },
  {
   "cell_type": "code",
   "execution_count": 19,
   "metadata": {},
   "outputs": [
    {
     "data": {
      "text/plain": [
       "<matplotlib.legend.Legend at 0x7f2b501a5090>"
      ]
     },
     "execution_count": 19,
     "metadata": {},
     "output_type": "execute_result"
    },
    {
     "data": {
      "image/png": "[encoded data removed]",
      "text/plain": [
       "<Figure size 432x288 with 1 Axes>"
      ]
     },
     "metadata": {
      "needs_background": "light"
     },
     "output_type": "display_data"
    }
   ],
   "source": [
    "plt.plot(range(1,21),data['accuracy'],label=\"training_accuracy\")\n",
    "plt.plot(range(1,21),data['loss'],label=\"training_loss\")\n",
    "plt.legend()"
   ]
  },
  {
   "cell_type": "code",
   "execution_count": 20,
   "metadata": {},
   "outputs": [
    {
     "data": {
      "text/plain": [
       "<matplotlib.legend.Legend at 0x7f2b1850e510>"
      ]
     },
     "execution_count": 20,
     "metadata": {},
     "output_type": "execute_result"
    },
    {
     "data": {
      "image/png": "[encoded data removed]",
      "text/plain": [
       "<Figure size 432x288 with 1 Axes>"
      ]
     },
     "metadata": {
      "needs_background": "light"
     },
     "output_type": "display_data"
    }
   ],
   "source": [
    "plt.plot(range(1,21),data['val_accuracy'],label=\"validation_accuracy\")\n",
    "plt.plot(range(1,21),data['val_loss'],label=\"validation_loss\")\n",
    "plt.legend()"
   ]
  },
  {
   "cell_type": "code",
   "execution_count": 21,
   "metadata": {},
   "outputs": [
    {
     "name": "stdout",
     "output_type": "stream",
     "text": [
      "Model: \"sequential\"\n",
      "_________________________________________________________________\n",
      "Layer (type)                 Output Shape              Param #   \n",
      "=================================================================\n",
      "conv2d (Conv2D)              (None, 30, 30, 32)        896       \n",
      "_________________________________________________________________\n",
      "max_pooling2d (MaxPooling2D) (None, 15, 15, 32)        0         \n",
      "_________________________________________________________________\n",
      "conv2d_1 (Conv2D)            (None, 7, 7, 64)          18496     \n",
      "_________________________________________________________________\n",
      "max_pooling2d_1 (MaxPooling2 (None, 3, 3, 64)          0         \n",
      "_________________________________________________________________\n",
      "flatten (Flatten)            (None, 576)               0         \n",
      "_________________________________________________________________\n",
      "dense (Dense)                (None, 64)                36928     \n",
      "_________________________________________________________________\n",
      "dropout (Dropout)            (None, 64)                0         \n",
      "_________________________________________________________________\n",
      "dense_1 (Dense)              (None, 10)                650       \n",
      "=================================================================\n",
      "Total params: 56,970\n",
      "Trainable params: 56,970\n",
      "Non-trainable params: 0\n",
      "_________________________________________________________________\n"
     ]
    }
   ],
   "source": [
    "model.summary()"
   ]
  },
  {
   "cell_type": "code",
   "execution_count": 22,
   "metadata": {},
   "outputs": [],
   "source": [
    "model.save(\"cifar10.h5\")"
   ]
  },
  {
   "cell_type": "code",
   "execution_count": 25,
   "metadata": {},
   "outputs": [],
   "source": [
    "from tensorflow.keras.preprocessing.image import ImageDataGenerator"
   ]
  },
  {
   "cell_type": "code",
   "execution_count": 26,
   "metadata": {},
   "outputs": [],
   "source": [
    "train_dataflow=ImageDataGenerator(samplewise_center=True,samplewise_std_normalization=True,rotation_range=90)\n",
    "val_dataflow=ImageDataGenerator(samplewise_center=True,samplewise_std_normalization=True,rotation_range=90)"
   ]
  },
  {
   "cell_type": "code",
   "execution_count": 28,
   "metadata": {},
   "outputs": [],
   "source": [
    "train_gen=train_dataflow.flow(x_train_partial,y_train_partial,batch_size=350)\n",
    "val_gen=val_dataflow.flow(x_val,y_val,batch_size=300)"
   ]
  },
  {
   "cell_type": "code",
   "execution_count": 32,
   "metadata": {},
   "outputs": [],
   "source": [
    "from tensorflow.keras.models import load_model\n",
    "model2=load_model(\"cifar10.h5\")"
   ]
  },
  {
   "cell_type": "code",
   "execution_count": 34,
   "metadata": {},
   "outputs": [
    {
     "name": "stdout",
     "output_type": "stream",
     "text": [
      "Epoch 1/30\n",
      "100/100 [==============================] - 25s 253ms/step - loss: 2.6147 - accuracy: 0.1959 - val_loss: 2.4804 - val_accuracy: 0.2452\n",
      "Epoch 2/30\n",
      "100/100 [==============================] - 25s 246ms/step - loss: 2.6029 - accuracy: 0.2055 - val_loss: 2.4864 - val_accuracy: 0.2466\n",
      "Epoch 3/30\n",
      "100/100 [==============================] - 24s 245ms/step - loss: 2.5661 - accuracy: 0.2271 - val_loss: 2.4535 - val_accuracy: 0.2675\n",
      "Epoch 4/30\n",
      "100/100 [==============================] - 25s 245ms/step - loss: 2.5937 - accuracy: 0.2226 - val_loss: 2.4859 - val_accuracy: 0.2773\n",
      "Epoch 5/30\n",
      "100/100 [==============================] - 25s 250ms/step - loss: 2.5684 - accuracy: 0.2350 - val_loss: 2.4654 - val_accuracy: 0.2698\n",
      "Epoch 6/30\n",
      "100/100 [==============================] - 25s 248ms/step - loss: 2.5605 - accuracy: 0.2425 - val_loss: 2.4614 - val_accuracy: 0.2309\n",
      "Epoch 7/30\n",
      "100/100 [==============================] - 25s 251ms/step - loss: 2.5568 - accuracy: 0.2302 - val_loss: 2.4269 - val_accuracy: 0.2777\n",
      "Epoch 8/30\n",
      "100/100 [==============================] - 24s 245ms/step - loss: 2.5538 - accuracy: 0.2284 - val_loss: 2.4342 - val_accuracy: 0.2820\n",
      "Epoch 9/30\n",
      "100/100 [==============================] - 24s 244ms/step - loss: 2.5076 - accuracy: 0.2318 - val_loss: 2.4512 - val_accuracy: 0.2600\n",
      "Epoch 10/30\n",
      "100/100 [==============================] - 24s 244ms/step - loss: 2.5474 - accuracy: 0.2194 - val_loss: 2.4512 - val_accuracy: 0.2539\n",
      "Epoch 11/30\n",
      "100/100 [==============================] - 25s 249ms/step - loss: 2.5336 - accuracy: 0.2409 - val_loss: 2.4246 - val_accuracy: 0.2669\n",
      "Epoch 12/30\n",
      "100/100 [==============================] - 25s 248ms/step - loss: 2.5295 - accuracy: 0.2331 - val_loss: 2.5154 - val_accuracy: 0.2711\n",
      "Epoch 13/30\n",
      "100/100 [==============================] - 24s 243ms/step - loss: 2.5205 - accuracy: 0.2384 - val_loss: 2.3962 - val_accuracy: 0.2542\n",
      "Epoch 14/30\n",
      "100/100 [==============================] - 25s 251ms/step - loss: 2.5382 - accuracy: 0.2227 - val_loss: 2.4619 - val_accuracy: 0.2245\n",
      "Epoch 15/30\n",
      "100/100 [==============================] - 24s 241ms/step - loss: 2.5715 - accuracy: 0.2271 - val_loss: 2.4350 - val_accuracy: 0.2786\n",
      "Epoch 16/30\n",
      "100/100 [==============================] - 26s 257ms/step - loss: 2.5446 - accuracy: 0.2379 - val_loss: 2.3976 - val_accuracy: 0.2747\n",
      "Epoch 17/30\n",
      "100/100 [==============================] - 25s 252ms/step - loss: 2.5338 - accuracy: 0.2447 - val_loss: 2.4424 - val_accuracy: 0.2622\n",
      "Epoch 18/30\n",
      "100/100 [==============================] - 25s 252ms/step - loss: 2.5521 - accuracy: 0.2459 - val_loss: 2.6384 - val_accuracy: 0.2169\n",
      "Epoch 19/30\n",
      "100/100 [==============================] - 25s 246ms/step - loss: 2.5228 - accuracy: 0.2434 - val_loss: 2.3956 - val_accuracy: 0.2794\n",
      "Epoch 20/30\n",
      "100/100 [==============================] - 24s 244ms/step - loss: 2.5230 - accuracy: 0.2505 - val_loss: 2.6618 - val_accuracy: 0.2403\n",
      "Epoch 21/30\n",
      "100/100 [==============================] - 25s 248ms/step - loss: 2.5358 - accuracy: 0.2458 - val_loss: 2.4409 - val_accuracy: 0.2500\n",
      "Epoch 22/30\n",
      "100/100 [==============================] - 25s 248ms/step - loss: 2.5186 - accuracy: 0.2405 - val_loss: 2.4092 - val_accuracy: 0.2923\n",
      "Epoch 23/30\n",
      "100/100 [==============================] - 25s 249ms/step - loss: 2.5061 - accuracy: 0.2432 - val_loss: 2.3776 - val_accuracy: 0.2775\n",
      "Epoch 24/30\n",
      "100/100 [==============================] - 24s 243ms/step - loss: 2.5492 - accuracy: 0.2537 - val_loss: 2.3973 - val_accuracy: 0.2867\n",
      "Epoch 25/30\n",
      "100/100 [==============================] - 25s 246ms/step - loss: 2.5560 - accuracy: 0.2428 - val_loss: 2.3857 - val_accuracy: 0.2961\n",
      "Epoch 26/30\n",
      "100/100 [==============================] - 25s 249ms/step - loss: 2.5621 - accuracy: 0.2477 - val_loss: 2.4619 - val_accuracy: 0.2723\n",
      "Epoch 27/30\n",
      "100/100 [==============================] - 26s 260ms/step - loss: 2.5396 - accuracy: 0.2480 - val_loss: 2.3669 - val_accuracy: 0.2886\n",
      "Epoch 28/30\n",
      "100/100 [==============================] - 24s 243ms/step - loss: 2.5140 - accuracy: 0.2484 - val_loss: 2.5665 - val_accuracy: 0.2723\n",
      "Epoch 29/30\n",
      "100/100 [==============================] - 24s 243ms/step - loss: 2.5267 - accuracy: 0.2496 - val_loss: 2.3901 - val_accuracy: 0.2812\n",
      "Epoch 30/30\n",
      "100/100 [==============================] - 25s 248ms/step - loss: 2.5230 - accuracy: 0.2474 - val_loss: 2.4074 - val_accuracy: 0.2966\n"
     ]
    }
   ],
   "source": [
    "with tf.device(\"/gpu:0\"):\n",
    "    history=model2.fit_generator(train_gen,steps_per_epoch=100,epochs=30,validation_data=val_gen,validation_steps=50)"
   ]
  },
  {
   "cell_type": "code",
   "execution_count": 36,
   "metadata": {},
   "outputs": [
    {
     "data": {
      "text/plain": [
       "<matplotlib.legend.Legend at 0x7f2afc1ab250>"
      ]
     },
     "execution_count": 36,
     "metadata": {},
     "output_type": "execute_result"
    },
    {
     "data": {
      "image/png": "[encoded data removed]",
      "text/plain": [
       "<Figure size 432x288 with 1 Axes>"
      ]
     },
     "metadata": {
      "needs_background": "light"
     },
     "output_type": "display_data"
    }
   ],
   "source": [
    "data=history.history\n",
    "plt.plot(range(1,31),data['accuracy'],label=\"training_accuracy\")\n",
    "plt.plot(range(1,31),data['loss'],label=\"training_loss\")\n",
    "plt.legend()"
   ]
  },
  {
   "cell_type": "code",
   "execution_count": 37,
   "metadata": {},
   "outputs": [
    {
     "data": {
      "text/plain": [
       "<matplotlib.legend.Legend at 0x7f2afc15c4d0>"
      ]
     },
     "execution_count": 37,
     "metadata": {},
     "output_type": "execute_result"
    },
    {
     "data": {
      "image/png": "[encoded data removed]",
      "text/plain": [
       "<Figure size 432x288 with 1 Axes>"
      ]
     },
     "metadata": {
      "needs_background": "light"
     },
     "output_type": "display_data"
    }
   ],
   "source": [
    "plt.plot(range(1,31),data['val_accuracy'],label=\"validation_accuracy\")\n",
    "plt.plot(range(1,31),data['val_loss'],label=\"validation_loss\")\n",
    "plt.legend()"
   ]
  },
  {
   "cell_type": "code",
   "execution_count": null,
   "metadata": {},
   "outputs": [],
   "source": []
  }
 ],
 "metadata": {
  "kernelspec": {
   "display_name": "Python 3",
   "language": "python",
   "name": "python3"
  },
  "language_info": {
   "codemirror_mode": {
    "name": "ipython",
    "version": 3
   },
   "file_extension": ".py",
   "mimetype": "text/x-python",
   "name": "python",
   "nbconvert_exporter": "python",
   "pygments_lexer": "ipython3",
   "version": "3.7.4"
  }
 },
 "nbformat": 4,
 "nbformat_minor": 4
}
