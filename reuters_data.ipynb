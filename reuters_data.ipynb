{
 "cells": [
  {
   "cell_type": "code",
   "execution_count": 1,
   "metadata": {},
   "outputs": [],
   "source": [
    "import tensorflow as tf"
   ]
  },
  {
   "cell_type": "code",
   "execution_count": 2,
   "metadata": {},
   "outputs": [],
   "source": [
    "import tensorflow.keras as k"
   ]
  },
  {
   "cell_type": "code",
   "execution_count": 6,
   "metadata": {},
   "outputs": [],
   "source": [
    "from tensorflow.keras.datasets import reuters"
   ]
  },
  {
   "cell_type": "code",
   "execution_count": 7,
   "metadata": {},
   "outputs": [
    {
     "name": "stdout",
     "output_type": "stream",
     "text": [
      "Downloading data from https://storage.googleapis.com/tensorflow/tf-keras-datasets/reuters.npz\n",
      "2113536/2110848 [==============================] - 11s 5us/step\n"
     ]
    }
   ],
   "source": [
    "(x_train,y_train),(x_test,y_test)=reuters.load_data(num_words=10000)"
   ]
  },
  {
   "cell_type": "code",
   "execution_count": 12,
   "metadata": {},
   "outputs": [
    {
     "name": "stdout",
     "output_type": "stream",
     "text": [
      "Downloading data from https://storage.googleapis.com/tensorflow/tf-keras-datasets/reuters_word_index.json\n",
      "557056/550378 [==============================] - 0s 1us/step\n"
     ]
    }
   ],
   "source": [
    "word_index=reuters.get_word_index()"
   ]
  },
  {
   "cell_type": "code",
   "execution_count": 19,
   "metadata": {},
   "outputs": [],
   "source": [
    "reverse_word_index=dict([(value,key) for (key,value) in word_index.items()])"
   ]
  },
  {
   "cell_type": "code",
   "execution_count": 39,
   "metadata": {},
   "outputs": [],
   "source": [
    "decoded=\" \".join([reverse_word_index[i] for i in x_train[0]])"
   ]
  },
  {
   "cell_type": "code",
   "execution_count": 41,
   "metadata": {},
   "outputs": [
    {
     "data": {
      "text/plain": [
       "'the of of mln loss for plc said at only ended said commonwealth could 1 traders now april 0 a after said from 1985 and from foreign 000 april 0 prices its account year a but in this mln home an states earlier and rise and revs vs 000 its 16 vs 000 a but 3 psbr oils several and shareholders and dividend vs 000 its all 4 vs 000 1 mln agreed largely april 0 are 2 states will billion total and against 000 pct dlrs'"
      ]
     },
     "execution_count": 41,
     "metadata": {},
     "output_type": "execute_result"
    }
   ],
   "source": [
    "decoded"
   ]
  },
  {
   "cell_type": "code",
   "execution_count": 52,
   "metadata": {},
   "outputs": [
    {
     "data": {
      "text/plain": [
       "array([ 0,  1,  2,  3,  4,  5,  6,  7,  8,  9, 10, 11, 12, 13, 14, 15, 16,\n",
       "       17, 18, 19, 20, 21, 22, 23, 24, 25, 26, 27, 28, 29, 30, 31, 32, 33,\n",
       "       34, 35, 36, 37, 38, 39, 40, 41, 42, 43, 44, 45])"
      ]
     },
     "execution_count": 52,
     "metadata": {},
     "output_type": "execute_result"
    }
   ],
   "source": [
    "np.unique(np.array(y_train))# multilabel classification"
   ]
  },
  {
   "cell_type": "code",
   "execution_count": 68,
   "metadata": {},
   "outputs": [],
   "source": [
    "def one_hot(sequences,dimension=10000):\n",
    "    results=np.zeros((len(sequences),dimension))\n",
    "    for i,sequence in enumerate (sequences):\n",
    "        results[i,sequence]=1\n",
    "    return results"
   ]
  },
  {
   "cell_type": "code",
   "execution_count": 62,
   "metadata": {},
   "outputs": [],
   "source": [
    "x_train=one_hot(x_train)\n",
    "x_test=one_hot(x_test)"
   ]
  },
  {
   "cell_type": "code",
   "execution_count": 67,
   "metadata": {},
   "outputs": [],
   "source": [
    "def one_hot_labels(sequences,dimension=46):\n",
    "    results=np.zeros((len(sequences),dimension))\n",
    "    for i,sequence in enumerate (sequences):\n",
    "        results[i,sequence]=1\n",
    "    return results"
   ]
  },
  {
   "cell_type": "code",
   "execution_count": 69,
   "metadata": {},
   "outputs": [],
   "source": [
    "y_train=one_hot_labels(y_train)"
   ]
  },
  {
   "cell_type": "code",
   "execution_count": null,
   "metadata": {},
   "outputs": [],
   "source": []
  },
  {
   "cell_type": "markdown",
   "metadata": {},
   "source": [
    "# or use keras.utils import to_categorical"
   ]
  },
  {
   "cell_type": "code",
   "execution_count": 72,
   "metadata": {},
   "outputs": [],
   "source": [
    "from tensorflow.keras import models,layers"
   ]
  },
  {
   "cell_type": "code",
   "execution_count": 73,
   "metadata": {},
   "outputs": [],
   "source": [
    "model=models.Sequential()"
   ]
  },
  {
   "cell_type": "code",
   "execution_count": 74,
   "metadata": {},
   "outputs": [],
   "source": [
    "model.add(layers.Dense(64,activation=\"relu\",input_shape=(10000,)))\n",
    "model.add(layers.Dense(32,activation=\"elu\"))\n",
    "model.add(layers.Dense(46,activation=\"softmax\"))"
   ]
  },
  {
   "cell_type": "code",
   "execution_count": 75,
   "metadata": {},
   "outputs": [],
   "source": [
    "model.compile(optimizer=\"rmsprop\",loss=\"categorical_crossentropy\",metrics=[\"acc\"])"
   ]
  },
  {
   "cell_type": "code",
   "execution_count": 82,
   "metadata": {},
   "outputs": [],
   "source": [
    "x_val=x_train[:1000]\n",
    "y_val=y_train[:1000]\n",
    "x_train=x_train[1000:]\n",
    "y_train=y_train[1000:]"
   ]
  },
  {
   "cell_type": "code",
   "execution_count": 83,
   "metadata": {},
   "outputs": [
    {
     "name": "stdout",
     "output_type": "stream",
     "text": [
      "Train on 6982 samples, validate on 1000 samples\n",
      "Epoch 1/20\n",
      "6982/6982 [==============================] - 9s 1ms/sample - loss: 1.9502 - acc: 0.6033 - val_loss: 1.3925 - val_acc: 0.6910\n",
      "Epoch 2/20\n",
      "6982/6982 [==============================] - 1s 209us/sample - loss: 1.0092 - acc: 0.7770 - val_loss: 1.1561 - val_acc: 0.7500\n",
      "Epoch 3/20\n",
      "6982/6982 [==============================] - 1s 184us/sample - loss: 0.6801 - acc: 0.8558 - val_loss: 1.0556 - val_acc: 0.7640\n",
      "Epoch 4/20\n",
      "6982/6982 [==============================] - 1s 182us/sample - loss: 0.4729 - acc: 0.9016 - val_loss: 1.0123 - val_acc: 0.7890\n",
      "Epoch 5/20\n",
      "6982/6982 [==============================] - 1s 181us/sample - loss: 0.3410 - acc: 0.9324 - val_loss: 1.0198 - val_acc: 0.7870\n",
      "Epoch 6/20\n",
      "6982/6982 [==============================] - 1s 184us/sample - loss: 0.2597 - acc: 0.9459 - val_loss: 1.0563 - val_acc: 0.7930\n",
      "Epoch 7/20\n",
      "6982/6982 [==============================] - 1s 193us/sample - loss: 0.2093 - acc: 0.9522 - val_loss: 1.0831 - val_acc: 0.7860\n",
      "Epoch 8/20\n",
      "6982/6982 [==============================] - 1s 182us/sample - loss: 0.1796 - acc: 0.9529 - val_loss: 1.1720 - val_acc: 0.7750\n",
      "Epoch 9/20\n",
      "6982/6982 [==============================] - 1s 176us/sample - loss: 0.1609 - acc: 0.9573 - val_loss: 1.2477 - val_acc: 0.7740\n",
      "Epoch 10/20\n",
      "6982/6982 [==============================] - 1s 179us/sample - loss: 0.1418 - acc: 0.9586 - val_loss: 1.2197 - val_acc: 0.7790\n",
      "Epoch 11/20\n",
      "6982/6982 [==============================] - 1s 184us/sample - loss: 0.1345 - acc: 0.9572 - val_loss: 1.2663 - val_acc: 0.7760\n",
      "Epoch 12/20\n",
      "6982/6982 [==============================] - 1s 193us/sample - loss: 0.1238 - acc: 0.9613 - val_loss: 1.2533 - val_acc: 0.7850\n",
      "Epoch 13/20\n",
      "6982/6982 [==============================] - 1s 192us/sample - loss: 0.1204 - acc: 0.9600 - val_loss: 1.3199 - val_acc: 0.7760\n",
      "Epoch 14/20\n",
      "6982/6982 [==============================] - 1s 189us/sample - loss: 0.1153 - acc: 0.9610 - val_loss: 1.3249 - val_acc: 0.7830\n",
      "Epoch 15/20\n",
      "6982/6982 [==============================] - 1s 199us/sample - loss: 0.1135 - acc: 0.9596 - val_loss: 1.3390 - val_acc: 0.7770\n",
      "Epoch 16/20\n",
      "6982/6982 [==============================] - 1s 193us/sample - loss: 0.1020 - acc: 0.9618 - val_loss: 1.3807 - val_acc: 0.7730\n",
      "Epoch 17/20\n",
      "6982/6982 [==============================] - 1s 193us/sample - loss: 0.1036 - acc: 0.9606 - val_loss: 1.4910 - val_acc: 0.7610\n",
      "Epoch 18/20\n",
      "6982/6982 [==============================] - 1s 188us/sample - loss: 0.0997 - acc: 0.9596 - val_loss: 1.4730 - val_acc: 0.7700\n",
      "Epoch 19/20\n",
      "6982/6982 [==============================] - 1s 193us/sample - loss: 0.0995 - acc: 0.9606 - val_loss: 1.4596 - val_acc: 0.7770\n",
      "Epoch 20/20\n",
      "6982/6982 [==============================] - 1s 192us/sample - loss: 0.0936 - acc: 0.9620 - val_loss: 1.5363 - val_acc: 0.7550\n"
     ]
    }
   ],
   "source": [
    "history=model.fit(x_train,y_train,batch_size=128,epochs=20,validation_data=(x_val,y_val))"
   ]
  },
  {
   "cell_type": "code",
   "execution_count": 85,
   "metadata": {},
   "outputs": [],
   "source": [
    "data=history.history"
   ]
  },
  {
   "cell_type": "code",
   "execution_count": 87,
   "metadata": {},
   "outputs": [],
   "source": [
    "import matplotlib.pyplot as plt"
   ]
  },
  {
   "cell_type": "code",
   "execution_count": 88,
   "metadata": {},
   "outputs": [
    {
     "data": {
      "text/plain": [
       "<matplotlib.legend.Legend at 0x7f77585eb590>"
      ]
     },
     "execution_count": 88,
     "metadata": {},
     "output_type": "execute_result"
    },
    {
     "data": {
      "image/png": "[encoded data removed]",
      "text/plain": [
       "<Figure size 432x288 with 1 Axes>"
      ]
     },
     "metadata": {
      "needs_background": "light"
     },
     "output_type": "display_data"
    }
   ],
   "source": [
    "plt.plot(range(1,21),data[\"loss\"],label=\"training_loss\")\n",
    "plt.plot(range(1,21),data[\"acc\"],label=\"training_acc\")\n",
    "plt.legend()"
   ]
  },
  {
   "cell_type": "code",
   "execution_count": 89,
   "metadata": {},
   "outputs": [
    {
     "data": {
      "text/plain": [
       "<matplotlib.legend.Legend at 0x7f775806d790>"
      ]
     },
     "execution_count": 89,
     "metadata": {},
     "output_type": "execute_result"
    },
    {
     "data": {
      "image/png": "[encoded data removed]",
      "text/plain": [
       "<Figure size 432x288 with 1 Axes>"
      ]
     },
     "metadata": {
      "needs_background": "light"
     },
     "output_type": "display_data"
    }
   ],
   "source": [
    "plt.plot(range(1,21),data[\"val_loss\"],label=\"validation_loss\")\n",
    "plt.plot(range(1,21),data[\"val_acc\"],label=\"validation_acc\")\n",
    "plt.legend()"
   ]
  },
  {
   "cell_type": "markdown",
   "metadata": {},
   "source": [
    "# conclusion overfitting after 5 epoch"
   ]
  },
  {
   "cell_type": "code",
   "execution_count": null,
   "metadata": {},
   "outputs": [],
   "source": []
  }
 ],
 "metadata": {
  "kernelspec": {
   "display_name": "Python 3",
   "language": "python",
   "name": "python3"
  },
  "language_info": {
   "codemirror_mode": {
    "name": "ipython",
    "version": 3
   },
   "file_extension": ".py",
   "mimetype": "text/x-python",
   "name": "python",
   "nbconvert_exporter": "python",
   "pygments_lexer": "ipython3",
   "version": "3.7.6"
  }
 },
 "nbformat": 4,
 "nbformat_minor": 4
}
