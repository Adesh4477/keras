{
 "cells": [
  {
   "cell_type": "code",
   "execution_count": 1,
   "metadata": {},
   "outputs": [],
   "source": [
    "from tensorflow.keras.datasets import cifar10"
   ]
  },
  {
   "cell_type": "code",
   "execution_count": 2,
   "metadata": {},
   "outputs": [],
   "source": [
    "import tensorflow as tf"
   ]
  },
  {
   "cell_type": "code",
   "execution_count": 3,
   "metadata": {},
   "outputs": [],
   "source": [
    "(x_train,y_train),(x_test,y_test)=cifar10.load_data()"
   ]
  },
  {
   "cell_type": "code",
   "execution_count": 4,
   "metadata": {},
   "outputs": [],
   "source": [
    "from tensorflow.keras.applications import VGG16"
   ]
  },
  {
   "cell_type": "code",
   "execution_count": 5,
   "metadata": {},
   "outputs": [],
   "source": [
    "conv_base=VGG16(weights=\"imagenet\",include_top=False,input_shape=(32,32,3))"
   ]
  },
  {
   "cell_type": "code",
   "execution_count": 6,
   "metadata": {},
   "outputs": [
    {
     "name": "stdout",
     "output_type": "stream",
     "text": [
      "Model: \"vgg16\"\n",
      "_________________________________________________________________\n",
      "Layer (type)                 Output Shape              Param #   \n",
      "=================================================================\n",
      "input_1 (InputLayer)         [(None, 32, 32, 3)]       0         \n",
      "_________________________________________________________________\n",
      "block1_conv1 (Conv2D)        (None, 32, 32, 64)        1792      \n",
      "_________________________________________________________________\n",
      "block1_conv2 (Conv2D)        (None, 32, 32, 64)        36928     \n",
      "_________________________________________________________________\n",
      "block1_pool (MaxPooling2D)   (None, 16, 16, 64)        0         \n",
      "_________________________________________________________________\n",
      "block2_conv1 (Conv2D)        (None, 16, 16, 128)       73856     \n",
      "_________________________________________________________________\n",
      "block2_conv2 (Conv2D)        (None, 16, 16, 128)       147584    \n",
      "_________________________________________________________________\n",
      "block2_pool (MaxPooling2D)   (None, 8, 8, 128)         0         \n",
      "_________________________________________________________________\n",
      "block3_conv1 (Conv2D)        (None, 8, 8, 256)         295168    \n",
      "_________________________________________________________________\n",
      "block3_conv2 (Conv2D)        (None, 8, 8, 256)         590080    \n",
      "_________________________________________________________________\n",
      "block3_conv3 (Conv2D)        (None, 8, 8, 256)         590080    \n",
      "_________________________________________________________________\n",
      "block3_pool (MaxPooling2D)   (None, 4, 4, 256)         0         \n",
      "_________________________________________________________________\n",
      "block4_conv1 (Conv2D)        (None, 4, 4, 512)         1180160   \n",
      "_________________________________________________________________\n",
      "block4_conv2 (Conv2D)        (None, 4, 4, 512)         2359808   \n",
      "_________________________________________________________________\n",
      "block4_conv3 (Conv2D)        (None, 4, 4, 512)         2359808   \n",
      "_________________________________________________________________\n",
      "block4_pool (MaxPooling2D)   (None, 2, 2, 512)         0         \n",
      "_________________________________________________________________\n",
      "block5_conv1 (Conv2D)        (None, 2, 2, 512)         2359808   \n",
      "_________________________________________________________________\n",
      "block5_conv2 (Conv2D)        (None, 2, 2, 512)         2359808   \n",
      "_________________________________________________________________\n",
      "block5_conv3 (Conv2D)        (None, 2, 2, 512)         2359808   \n",
      "_________________________________________________________________\n",
      "block5_pool (MaxPooling2D)   (None, 1, 1, 512)         0         \n",
      "=================================================================\n",
      "Total params: 14,714,688\n",
      "Trainable params: 14,714,688\n",
      "Non-trainable params: 0\n",
      "_________________________________________________________________\n"
     ]
    }
   ],
   "source": [
    "conv_base.summary()"
   ]
  },
  {
   "cell_type": "code",
   "execution_count": 7,
   "metadata": {},
   "outputs": [],
   "source": [
    "from tensorflow.keras import models,layers"
   ]
  },
  {
   "cell_type": "code",
   "execution_count": 8,
   "metadata": {},
   "outputs": [],
   "source": [
    "model=models.Sequential()\n",
    "model.add(conv_base)\n",
    "model.add(layers.Flatten())\n",
    "model.add(layers.Dropout(rate=0.5))\n",
    "model.add(layers.Dense(64,activation=\"relu\"))\n",
    "model.add(layers.Dense(10,activation=\"softmax\"))"
   ]
  },
  {
   "cell_type": "code",
   "execution_count": 9,
   "metadata": {},
   "outputs": [],
   "source": [
    "from tensorflow.keras.utils import to_categorical"
   ]
  },
  {
   "cell_type": "code",
   "execution_count": 10,
   "metadata": {},
   "outputs": [],
   "source": [
    "y_train=to_categorical(y_train)"
   ]
  },
  {
   "cell_type": "code",
   "execution_count": 11,
   "metadata": {},
   "outputs": [],
   "source": [
    "x_val=x_train[:15000]\n",
    "y_val=y_train[:15000]\n",
    "partial_x_train=x_train[15000:]\n",
    "partial_y_train=y_train[15000:]"
   ]
  },
  {
   "cell_type": "code",
   "execution_count": 20,
   "metadata": {},
   "outputs": [],
   "source": [
    "conv_base.trainable=False\n",
    "def fine_tunning():\n",
    "    for layers in conv_base.layers:\n",
    "        if layers.name==\"block5_conv1\":\n",
    "            layers.trainable=True\n",
    "        else:\n",
    "            layers.trainable=False"
   ]
  },
  {
   "cell_type": "code",
   "execution_count": 19,
   "metadata": {},
   "outputs": [],
   "source": [
    "model.compile(optimizer=\"Nadam\",loss=\"categorical_crossentropy\",metrics=[\"acc\"])"
   ]
  },
  {
   "cell_type": "code",
   "execution_count": 15,
   "metadata": {},
   "outputs": [],
   "source": [
    "from tensorflow.keras.preprocessing.image import ImageDataGenerator"
   ]
  },
  {
   "cell_type": "code",
   "execution_count": 16,
   "metadata": {},
   "outputs": [],
   "source": [
    "train_dir=ImageDataGenerator(samplewise_center=True,samplewise_std_normalization=True,rotation_range=90)\n",
    "val_dir=ImageDataGenerator(samplewise_center=True,samplewise_std_normalization=True,rotation_range=180)"
   ]
  },
  {
   "cell_type": "code",
   "execution_count": 17,
   "metadata": {},
   "outputs": [],
   "source": [
    "train=train_dir.flow(partial_x_train,partial_y_train,batch_size=350)\n",
    "val=val_dir.flow(x_val,y_val,batch_size=300)"
   ]
  },
  {
   "cell_type": "code",
   "execution_count": 21,
   "metadata": {},
   "outputs": [
    {
     "name": "stdout",
     "output_type": "stream",
     "text": [
      "Epoch 1/30\n",
      "100/100 [==============================] - 217s 2s/step - loss: 1.7417 - acc: 0.3832 - val_loss: 1.5706 - val_acc: 0.4490\n",
      "Epoch 2/30\n",
      "100/100 [==============================] - 217s 2s/step - loss: 1.6078 - acc: 0.4360 - val_loss: 1.5057 - val_acc: 0.4739\n",
      "Epoch 3/30\n",
      "100/100 [==============================] - 221s 2s/step - loss: 1.5577 - acc: 0.4516 - val_loss: 1.4772 - val_acc: 0.4831\n",
      "Epoch 4/30\n",
      "100/100 [==============================] - 219s 2s/step - loss: 1.5421 - acc: 0.4581 - val_loss: 1.4656 - val_acc: 0.4879\n",
      "Epoch 5/30\n",
      "100/100 [==============================] - 216s 2s/step - loss: 1.5207 - acc: 0.4663 - val_loss: 1.4613 - val_acc: 0.4901\n",
      "Epoch 6/30\n",
      "100/100 [==============================] - 216s 2s/step - loss: 1.5226 - acc: 0.4672 - val_loss: 1.4515 - val_acc: 0.4923\n",
      "Epoch 7/30\n",
      "100/100 [==============================] - 216s 2s/step - loss: 1.5059 - acc: 0.4698 - val_loss: 1.4509 - val_acc: 0.4895\n",
      "Epoch 8/30\n",
      "100/100 [==============================] - 216s 2s/step - loss: 1.4970 - acc: 0.4753 - val_loss: 1.4461 - val_acc: 0.4878\n",
      "Epoch 9/30\n",
      "100/100 [==============================] - 214s 2s/step - loss: 1.4898 - acc: 0.4781 - val_loss: 1.4403 - val_acc: 0.4923\n",
      "Epoch 10/30\n",
      "100/100 [==============================] - 214s 2s/step - loss: 1.4848 - acc: 0.4781 - val_loss: 1.4366 - val_acc: 0.4936\n",
      "Epoch 11/30\n",
      "100/100 [==============================] - 214s 2s/step - loss: 1.4701 - acc: 0.4847 - val_loss: 1.4221 - val_acc: 0.4960\n",
      "Epoch 12/30\n",
      "100/100 [==============================] - 214s 2s/step - loss: 1.4774 - acc: 0.4795 - val_loss: 1.4236 - val_acc: 0.5006\n",
      "Epoch 13/30\n",
      "100/100 [==============================] - 214s 2s/step - loss: 1.4609 - acc: 0.4917 - val_loss: 1.4160 - val_acc: 0.5029\n",
      "Epoch 14/30\n",
      "100/100 [==============================] - 214s 2s/step - loss: 1.4632 - acc: 0.4859 - val_loss: 1.4174 - val_acc: 0.5005\n",
      "Epoch 15/30\n",
      "100/100 [==============================] - 214s 2s/step - loss: 1.4576 - acc: 0.4894 - val_loss: 1.4222 - val_acc: 0.4994\n",
      "Epoch 16/30\n",
      "100/100 [==============================] - 214s 2s/step - loss: 1.4514 - acc: 0.4923 - val_loss: 1.4148 - val_acc: 0.5015\n",
      "Epoch 17/30\n",
      "100/100 [==============================] - 214s 2s/step - loss: 1.4427 - acc: 0.4921 - val_loss: 1.4064 - val_acc: 0.5093\n",
      "Epoch 18/30\n",
      "100/100 [==============================] - 214s 2s/step - loss: 1.4436 - acc: 0.4921 - val_loss: 1.4120 - val_acc: 0.5032\n",
      "Epoch 19/30\n",
      "100/100 [==============================] - 214s 2s/step - loss: 1.4363 - acc: 0.4950 - val_loss: 1.4071 - val_acc: 0.5049\n",
      "Epoch 20/30\n",
      "100/100 [==============================] - 214s 2s/step - loss: 1.4345 - acc: 0.4949 - val_loss: 1.4035 - val_acc: 0.5061\n",
      "Epoch 21/30\n",
      "100/100 [==============================] - 214s 2s/step - loss: 1.4291 - acc: 0.4933 - val_loss: 1.4021 - val_acc: 0.5067\n",
      "Epoch 22/30\n",
      "100/100 [==============================] - 215s 2s/step - loss: 1.4252 - acc: 0.4971 - val_loss: 1.4016 - val_acc: 0.5075\n",
      "Epoch 23/30\n",
      "100/100 [==============================] - 215s 2s/step - loss: 1.4245 - acc: 0.5005 - val_loss: 1.3970 - val_acc: 0.5045\n",
      "Epoch 24/30\n",
      "100/100 [==============================] - 214s 2s/step - loss: 1.4175 - acc: 0.5019 - val_loss: 1.3931 - val_acc: 0.5126\n",
      "Epoch 25/30\n",
      "100/100 [==============================] - 214s 2s/step - loss: 1.4177 - acc: 0.4984 - val_loss: 1.3959 - val_acc: 0.5069\n",
      "Epoch 26/30\n",
      "100/100 [==============================] - 214s 2s/step - loss: 1.4091 - acc: 0.5041 - val_loss: 1.3891 - val_acc: 0.5129\n",
      "Epoch 27/30\n",
      "100/100 [==============================] - 214s 2s/step - loss: 1.4137 - acc: 0.5024 - val_loss: 1.3889 - val_acc: 0.5081\n",
      "Epoch 28/30\n",
      "100/100 [==============================] - 214s 2s/step - loss: 1.4111 - acc: 0.5054 - val_loss: 1.3859 - val_acc: 0.5118\n",
      "Epoch 29/30\n",
      "100/100 [==============================] - 214s 2s/step - loss: 1.4059 - acc: 0.5050 - val_loss: 1.3841 - val_acc: 0.5138\n",
      "Epoch 30/30\n",
      "100/100 [==============================] - 214s 2s/step - loss: 1.4006 - acc: 0.5078 - val_loss: 1.3796 - val_acc: 0.5121\n"
     ]
    }
   ],
   "source": [
    "with tf.device(\"/gpu:0\"):\n",
    "    history=model.fit_generator(train,epochs=30,steps_per_epoch=100,validation_data=val,validation_steps=50)"
   ]
  },
  {
   "cell_type": "code",
   "execution_count": 22,
   "metadata": {},
   "outputs": [],
   "source": [
    "model.save(\"vgg16_fine.h5\")"
   ]
  },
  {
   "cell_type": "code",
   "execution_count": 25,
   "metadata": {},
   "outputs": [
    {
     "data": {
      "text/plain": [
       "<matplotlib.legend.Legend at 0x7fe0100c13d0>"
      ]
     },
     "execution_count": 25,
     "metadata": {},
     "output_type": "execute_result"
    },
    {
     "data": {
      "image/png": "[encoded data removed]",
      "text/plain": [
       "<Figure size 432x288 with 1 Axes>"
      ]
     },
     "metadata": {
      "needs_background": "light"
     },
     "output_type": "display_data"
    }
   ],
   "source": [
    "import matplotlib.pyplot as plt\n",
    "data=history.history\n",
    "plt.plot(range(1,31),data['acc'],label=\"training_accuracy\")\n",
    "plt.plot(range(1,31),data['loss'],label=\"training_loss\")\n",
    "plt.legend()"
   ]
  },
  {
   "cell_type": "code",
   "execution_count": 26,
   "metadata": {},
   "outputs": [
    {
     "data": {
      "text/plain": [
       "<matplotlib.legend.Legend at 0x7fdf9c0b4ed0>"
      ]
     },
     "execution_count": 26,
     "metadata": {},
     "output_type": "execute_result"
    },
    {
     "data": {
      "image/png": "[encoded data removed]",
      "text/plain": [
       "<Figure size 432x288 with 1 Axes>"
      ]
     },
     "metadata": {
      "needs_background": "light"
     },
     "output_type": "display_data"
    }
   ],
   "source": [
    "plt.plot(range(1,31),data['val_acc'],label=\"validation_accuracy\")\n",
    "plt.plot(range(1,31),data['val_loss'],label=\"validation_loss\")\n",
    "plt.legend()"
   ]
  },
  {
   "cell_type": "code",
   "execution_count": 59,
   "metadata": {},
   "outputs": [],
   "source": [
    "layers_output=[layers.output for layers in conv_base.layers[:8]]\n",
    "activation_model=models.Model(inputs=conv_base.input,outputs=layers_output)"
   ]
  },
  {
   "cell_type": "code",
   "execution_count": 60,
   "metadata": {},
   "outputs": [],
   "source": [
    "x=x_train[0]\n",
    "activation_model_output=activation_model.predict(x)"
   ]
  },
  {
   "cell_type": "code",
   "execution_count": 75,
   "metadata": {},
   "outputs": [],
   "source": [
    "output_first=activation_model_output[7]"
   ]
  },
  {
   "cell_type": "code",
   "execution_count": 79,
   "metadata": {},
   "outputs": [
    {
     "data": {
      "text/plain": [
       "<matplotlib.image.AxesImage at 0x7fdf8776a410>"
      ]
     },
     "execution_count": 79,
     "metadata": {},
     "output_type": "execute_result"
    },
    {
     "data": {
      "image/png": "[encoded data removed]",
      "text/plain": [
       "<Figure size 432x288 with 1 Axes>"
      ]
     },
     "metadata": {
      "needs_background": "light"
     },
     "output_type": "display_data"
    }
   ],
   "source": [
    "plt.imshow(output_first[0,:,:,7],interpolation=\"nearest\")"
   ]
  },
  {
   "cell_type": "code",
   "execution_count": 57,
   "metadata": {},
   "outputs": [
    {
     "data": {
      "text/plain": [
       "[<tf.Tensor 'input_1:0' shape=(None, 32, 32, 3) dtype=float32>,\n",
       " <tf.Tensor 'block1_conv1/Identity:0' shape=(None, 32, 32, 64) dtype=float32>,\n",
       " <tf.Tensor 'block1_conv2/Identity:0' shape=(None, 32, 32, 64) dtype=float32>,\n",
       " <tf.Tensor 'block1_pool/Identity:0' shape=(None, 16, 16, 64) dtype=float32>,\n",
       " <tf.Tensor 'block2_conv1/Identity:0' shape=(None, 16, 16, 128) dtype=float32>,\n",
       " <tf.Tensor 'block2_conv2/Identity:0' shape=(None, 16, 16, 128) dtype=float32>,\n",
       " <tf.Tensor 'block2_pool/Identity:0' shape=(None, 8, 8, 128) dtype=float32>,\n",
       " <tf.Tensor 'block3_conv1/Identity:0' shape=(None, 8, 8, 256) dtype=float32>]"
      ]
     },
     "execution_count": 57,
     "metadata": {},
     "output_type": "execute_result"
    }
   ],
   "source": [
    "layers_output"
   ]
  },
  {
   "cell_type": "code",
   "execution_count": 53,
   "metadata": {},
   "outputs": [
    {
     "name": "stdout",
     "output_type": "stream",
     "text": [
      "Model: \"sequential\"\n",
      "_________________________________________________________________\n",
      "Layer (type)                 Output Shape              Param #   \n",
      "=================================================================\n",
      "vgg16 (Model)                (None, 1, 1, 512)         14714688  \n",
      "_________________________________________________________________\n",
      "flatten (Flatten)            (None, 512)               0         \n",
      "_________________________________________________________________\n",
      "dropout (Dropout)            (None, 512)               0         \n",
      "_________________________________________________________________\n",
      "dense (Dense)                (None, 64)                32832     \n",
      "_________________________________________________________________\n",
      "dense_1 (Dense)              (None, 10)                650       \n",
      "=================================================================\n",
      "Total params: 14,748,170\n",
      "Trainable params: 33,482\n",
      "Non-trainable params: 14,714,688\n",
      "_________________________________________________________________\n"
     ]
    }
   ],
   "source": [
    "model.summary()"
   ]
  },
  {
   "cell_type": "code",
   "execution_count": null,
   "metadata": {},
   "outputs": [],
   "source": []
  }
 ],
 "metadata": {
  "kernelspec": {
   "display_name": "Python 3",
   "language": "python",
   "name": "python3"
  },
  "language_info": {
   "codemirror_mode": {
    "name": "ipython",
    "version": 3
   },
   "file_extension": ".py",
   "mimetype": "text/x-python",
   "name": "python",
   "nbconvert_exporter": "python",
   "pygments_lexer": "ipython3",
   "version": "3.7.6"
  }
 },
 "nbformat": 4,
 "nbformat_minor": 2
}
