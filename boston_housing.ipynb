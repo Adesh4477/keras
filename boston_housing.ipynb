{
 "cells": [
  {
   "cell_type": "code",
   "execution_count": 3,
   "metadata": {},
   "outputs": [],
   "source": [
    "from tensorflow.keras.datasets import boston_housing"
   ]
  },
  {
   "cell_type": "code",
   "execution_count": 4,
   "metadata": {},
   "outputs": [],
   "source": [
    "(x_train,y_train),(x_test,y_test)=boston_housing.load_data()"
   ]
  },
  {
   "cell_type": "code",
   "execution_count": 6,
   "metadata": {},
   "outputs": [],
   "source": [
    "from sklearn.preprocessing import StandardScaler"
   ]
  },
  {
   "cell_type": "code",
   "execution_count": 7,
   "metadata": {},
   "outputs": [],
   "source": [
    "ss=StandardScaler()\n",
    "x_train=ss.fit_transform(x_train)"
   ]
  },
  {
   "cell_type": "code",
   "execution_count": 8,
   "metadata": {},
   "outputs": [],
   "source": [
    "x_test=ss.fit_transform(x_test)"
   ]
  },
  {
   "cell_type": "code",
   "execution_count": 9,
   "metadata": {},
   "outputs": [],
   "source": [
    "from tensorflow.keras import models,layers"
   ]
  },
  {
   "cell_type": "code",
   "execution_count": 10,
   "metadata": {},
   "outputs": [],
   "source": [
    "def model_create():\n",
    "    model=models.Sequential()\n",
    "    model.add(layers.Dense(64,activation=\"relu\",input_shape=(13,)))\n",
    "    model.add(layers.Dense(1))\n",
    "    model.compile(optmizer=\"adam\",loss=\"mse\",metrics=[\"mae\"])\n",
    "    return model"
   ]
  },
  {
   "cell_type": "code",
   "execution_count": 11,
   "metadata": {},
   "outputs": [],
   "source": [
    "import numpy as np"
   ]
  },
  {
   "cell_type": "code",
   "execution_count": 14,
   "metadata": {},
   "outputs": [],
   "source": [
    "k=4\n",
    "num_val_sample=len(x_train)//k\n",
    "num_epoch=100\n",
    "all_score=[]"
   ]
  },
  {
   "cell_type": "code",
   "execution_count": 18,
   "metadata": {},
   "outputs": [
    {
     "name": "stdout",
     "output_type": "stream",
     "text": [
      "0 is processing\n",
      "1 is processing\n",
      "2 is processing\n",
      "3 is processing\n"
     ]
    }
   ],
   "source": [
    "for i in range(k):\n",
    "    print(i,\"is processing\")\n",
    "    val_data=x_train[i*num_val_sample:(i+1)*num_val_sample]\n",
    "    val_target=y_train[i*num_val_sample:(i+1)*num_val_sample]\n",
    "    partial_x_train=np.concatenate([x_train[:i*num_val_sample],x_train[(i+1)*num_val_sample:]],axis=0)\n",
    "    partial_y_train=np.concatenate([y_train[:i*num_val_sample],y_train[(i+1)*num_val_sample:]],axis=0)\n",
    "    model=model_create()\n",
    "    model.fit(partial_x_train,partial_y_train,batch_size=1,epochs=100,verbose=0)\n",
    "    val_mse,val_mae=model.evaluate(val_data,val_target,verbose=0)\n",
    "    all_score.append(val_mae)"
   ]
  },
  {
   "cell_type": "code",
   "execution_count": 20,
   "metadata": {},
   "outputs": [
    {
     "data": {
      "text/plain": [
       "2.2513297"
      ]
     },
     "execution_count": 20,
     "metadata": {},
     "output_type": "execute_result"
    }
   ],
   "source": [
    "np.mean(all_score)"
   ]
  },
  {
   "cell_type": "code",
   "execution_count": 24,
   "metadata": {},
   "outputs": [
    {
     "name": "stdout",
     "output_type": "stream",
     "text": [
      "0 is processing\n",
      "1 is processing\n",
      "2 is processing\n",
      "3 is processing\n"
     ]
    }
   ],
   "source": [
    "all_mae_histories=[]\n",
    "for i in range(k):\n",
    "    print(i,\"is processing\")\n",
    "    val_data=x_train[i*num_val_sample:(i+1)*num_val_sample]\n",
    "    val_target=y_train[i*num_val_sample:(i+1)*num_val_sample]\n",
    "    partial_x_train=np.concatenate([x_train[:i*num_val_sample],x_train[(i+1)*num_val_sample:]],axis=0)\n",
    "    partial_y_train=np.concatenate([y_train[:i*num_val_sample],y_train[(i+1)*num_val_sample:]],axis=0)\n",
    "    model=model_create()\n",
    "    history=model.fit(partial_x_train,partial_y_train,batch_size=1,epochs=100,validation_data=[val_data,val_target]\n",
    "                      ,verbose=0)\n",
    "    mae_history=history.history[\"val_mae\"]\n",
    "    all_mae_histories.append(mae_history)"
   ]
  },
  {
   "cell_type": "code",
   "execution_count": 34,
   "metadata": {},
   "outputs": [],
   "source": [
    "average_mae_history=[np.mean([x[i] for x in all_mae_histories]) for i in range(4)]"
   ]
  },
  {
   "cell_type": "code",
   "execution_count": 35,
   "metadata": {},
   "outputs": [],
   "source": [
    "import matplotlib.pyplot as plt"
   ]
  },
  {
   "cell_type": "code",
   "execution_count": 37,
   "metadata": {},
   "outputs": [
    {
     "data": {
      "text/plain": [
       "[<matplotlib.lines.Line2D at 0x7f6bfa61db10>]"
      ]
     },
     "execution_count": 37,
     "metadata": {},
     "output_type": "execute_result"
    },
    {
     "data": {
      "image/png": "[encoded data removed]",
      "text/plain": [
       "<Figure size 432x288 with 1 Axes>"
      ]
     },
     "metadata": {
      "needs_background": "light"
     },
     "output_type": "display_data"
    }
   ],
   "source": [
    "plt.plot(range(1,len(average_mae_history)+1),average_mae_history)"
   ]
  },
  {
   "cell_type": "code",
   "execution_count": 38,
   "metadata": {},
   "outputs": [
    {
     "data": {
      "text/plain": [
       "[14.839922, 5.898473, 4.461934, 4.0340858]"
      ]
     },
     "execution_count": 38,
     "metadata": {},
     "output_type": "execute_result"
    }
   ],
   "source": [
    "average_mae_history"
   ]
  },
  {
   "cell_type": "code",
   "execution_count": null,
   "metadata": {},
   "outputs": [],
   "source": []
  }
 ],
 "metadata": {
  "kernelspec": {
   "display_name": "Python 3",
   "language": "python",
   "name": "python3"
  },
  "language_info": {
   "codemirror_mode": {
    "name": "ipython",
    "version": 3
   },
   "file_extension": ".py",
   "mimetype": "text/x-python",
   "name": "python",
   "nbconvert_exporter": "python",
   "pygments_lexer": "ipython3",
   "version": "3.7.6"
  }
 },
 "nbformat": 4,
 "nbformat_minor": 4
}
