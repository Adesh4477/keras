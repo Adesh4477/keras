{
 "cells": [
  {
   "cell_type": "code",
   "execution_count": 1,
   "metadata": {},
   "outputs": [],
   "source": [
    "import tensorflow as tf"
   ]
  },
  {
   "cell_type": "code",
   "execution_count": 2,
   "metadata": {},
   "outputs": [],
   "source": [
    "from tensorflow.keras.datasets import reuters"
   ]
  },
  {
   "cell_type": "code",
   "execution_count": 16,
   "metadata": {},
   "outputs": [],
   "source": [
    "(x_train,y_train),(x_test,y_test)=reuters.load_data(num_words=10000)"
   ]
  },
  {
   "cell_type": "code",
   "execution_count": 7,
   "metadata": {},
   "outputs": [],
   "source": [
    "from tensorflow.keras.preprocessing import sequence"
   ]
  },
  {
   "cell_type": "code",
   "execution_count": 29,
   "metadata": {},
   "outputs": [],
   "source": [
    "x_train=sequence.pad_sequences(x_train,maxlen=200)"
   ]
  },
  {
   "cell_type": "code",
   "execution_count": 9,
   "metadata": {},
   "outputs": [],
   "source": [
    "from tensorflow.keras.utils import plot_model,to_categorical"
   ]
  },
  {
   "cell_type": "code",
   "execution_count": 18,
   "metadata": {},
   "outputs": [],
   "source": [
    "y_train=to_categorical(y_train)"
   ]
  },
  {
   "cell_type": "code",
   "execution_count": 30,
   "metadata": {},
   "outputs": [
    {
     "data": {
      "text/plain": [
       "(8982, 200)"
      ]
     },
     "execution_count": 30,
     "metadata": {},
     "output_type": "execute_result"
    }
   ],
   "source": [
    "x_train.shape"
   ]
  },
  {
   "cell_type": "code",
   "execution_count": 19,
   "metadata": {},
   "outputs": [
    {
     "data": {
      "text/plain": [
       "array([0., 1.], dtype=float32)"
      ]
     },
     "execution_count": 19,
     "metadata": {},
     "output_type": "execute_result"
    }
   ],
   "source": [
    "import numpy as np\n",
    "np.unique(y_train)"
   ]
  },
  {
   "cell_type": "code",
   "execution_count": 20,
   "metadata": {},
   "outputs": [
    {
     "data": {
      "text/plain": [
       "(8982,)"
      ]
     },
     "execution_count": 20,
     "metadata": {},
     "output_type": "execute_result"
    }
   ],
   "source": [
    "x_train.shape"
   ]
  },
  {
   "cell_type": "code",
   "execution_count": 21,
   "metadata": {},
   "outputs": [
    {
     "data": {
      "text/plain": [
       "(8982, 46)"
      ]
     },
     "execution_count": 21,
     "metadata": {},
     "output_type": "execute_result"
    }
   ],
   "source": [
    "y_train.shape"
   ]
  },
  {
   "cell_type": "code",
   "execution_count": 22,
   "metadata": {},
   "outputs": [],
   "source": [
    "from tensorflow.keras import models,layers"
   ]
  },
  {
   "cell_type": "code",
   "execution_count": 33,
   "metadata": {},
   "outputs": [],
   "source": [
    "model=models.Sequential()\n",
    "model.add(layers.Embedding(10000,64,input_length=200))\n",
    "model.add(layers.Conv1D(32,10,activation=\"relu\"))\n",
    "model.add(layers.MaxPooling1D(5))\n",
    "model.add(layers.LSTM(32,recurrent_dropout=0.1,activation=\"relu\"))\n",
    "model.add(layers.Dense(46,activation=\"softmax\"))"
   ]
  },
  {
   "cell_type": "code",
   "execution_count": 34,
   "metadata": {},
   "outputs": [],
   "source": [
    "from tensorflow.keras import optimizers\n",
    "model.compile(loss=\"categorical_crossentropy\",optimizer=optimizers.Adam()\n",
    "              ,metrics=[\"categorical_accuracy\"])"
   ]
  },
  {
   "cell_type": "code",
   "execution_count": 35,
   "metadata": {},
   "outputs": [
    {
     "name": "stdout",
     "output_type": "stream",
     "text": [
      "Train on 7185 samples, validate on 1797 samples\n",
      "Epoch 1/15\n",
      "7185/7185 [==============================] - 5s 761us/sample - loss: 3.6695 - categorical_accuracy: 0.2264 - val_loss: 2.9028 - val_categorical_accuracy: 0.2220\n",
      "Epoch 2/15\n",
      "7185/7185 [==============================] - 3s 459us/sample - loss: 2.6015 - categorical_accuracy: 0.3460 - val_loss: 2.1813 - val_categorical_accuracy: 0.4708\n",
      "Epoch 3/15\n",
      "7185/7185 [==============================] - 4s 498us/sample - loss: 2.0385 - categorical_accuracy: 0.4771 - val_loss: 1.8527 - val_categorical_accuracy: 0.5114\n",
      "Epoch 4/15\n",
      "7185/7185 [==============================] - 4s 511us/sample - loss: 1.8510 - categorical_accuracy: 0.5074 - val_loss: 1.7683 - val_categorical_accuracy: 0.5181\n",
      "Epoch 5/15\n",
      "7185/7185 [==============================] - 4s 527us/sample - loss: 1.7027 - categorical_accuracy: 0.5304 - val_loss: 1.6388 - val_categorical_accuracy: 0.5459\n",
      "Epoch 6/15\n",
      "7185/7185 [==============================] - 4s 511us/sample - loss: 1.5472 - categorical_accuracy: 0.5841 - val_loss: 1.5486 - val_categorical_accuracy: 0.6105\n",
      "Epoch 7/15\n",
      "7185/7185 [==============================] - 3s 486us/sample - loss: 1.3934 - categorical_accuracy: 0.6408 - val_loss: 1.4712 - val_categorical_accuracy: 0.6249\n",
      "Epoch 8/15\n",
      "7185/7185 [==============================] - 4s 510us/sample - loss: 1.3286 - categorical_accuracy: 0.6632 - val_loss: 1.4267 - val_categorical_accuracy: 0.6433\n",
      "Epoch 9/15\n",
      "7185/7185 [==============================] - 4s 520us/sample - loss: 1.2009 - categorical_accuracy: 0.6981 - val_loss: 1.3937 - val_categorical_accuracy: 0.6639\n",
      "Epoch 10/15\n",
      "7185/7185 [==============================] - 4s 518us/sample - loss: 1.1018 - categorical_accuracy: 0.7157 - val_loss: 1.3824 - val_categorical_accuracy: 0.6656\n",
      "Epoch 11/15\n",
      "7185/7185 [==============================] - 4s 500us/sample - loss: 1.0310 - categorical_accuracy: 0.7271 - val_loss: 1.3847 - val_categorical_accuracy: 0.6672\n",
      "Epoch 12/15\n",
      "7185/7185 [==============================] - 4s 511us/sample - loss: 0.9830 - categorical_accuracy: 0.7331 - val_loss: 1.4317 - val_categorical_accuracy: 0.6561\n",
      "Epoch 13/15\n",
      "7185/7185 [==============================] - 4s 515us/sample - loss: 0.9139 - categorical_accuracy: 0.7436 - val_loss: 1.4249 - val_categorical_accuracy: 0.6555\n",
      "Epoch 14/15\n",
      "7185/7185 [==============================] - 4s 515us/sample - loss: 0.8546 - categorical_accuracy: 0.7577 - val_loss: 1.4342 - val_categorical_accuracy: 0.6750\n",
      "Epoch 15/15\n",
      "7185/7185 [==============================] - 3s 480us/sample - loss: 0.7895 - categorical_accuracy: 0.7779 - val_loss: 1.4825 - val_categorical_accuracy: 0.6728\n"
     ]
    }
   ],
   "source": [
    "with tf.device(\"/gpu:0\"):\n",
    "    history=model.fit(x_train,y_train,epochs=15,batch_size=300,validation_split=0.2)"
   ]
  },
  {
   "cell_type": "code",
   "execution_count": 36,
   "metadata": {},
   "outputs": [],
   "source": [
    "model.save(\"adam_reuters.h5\")"
   ]
  },
  {
   "cell_type": "code",
   "execution_count": 45,
   "metadata": {},
   "outputs": [],
   "source": [
    "word_index=reuters.get_word_index()"
   ]
  },
  {
   "cell_type": "code",
   "execution_count": 47,
   "metadata": {},
   "outputs": [],
   "source": [
    "reversed_word_index=dict([(key,value) for value,key in word_index.items()])"
   ]
  },
  {
   "cell_type": "code",
   "execution_count": 54,
   "metadata": {},
   "outputs": [],
   "source": [
    "decoded=[reversed_word_index.get(x) for x in x_train[20]]"
   ]
  },
  {
   "cell_type": "code",
   "execution_count": 57,
   "metadata": {},
   "outputs": [],
   "source": [
    "from tensorflow.keras import callbacks"
   ]
  },
  {
   "cell_type": "code",
   "execution_count": 60,
   "metadata": {},
   "outputs": [],
   "source": [
    "logdir=\"first\"\n",
    "tensorboard=callbacks.TensorBoard(log_dir=logdir)"
   ]
  },
  {
   "cell_type": "code",
   "execution_count": 61,
   "metadata": {},
   "outputs": [],
   "source": [
    "model_2=models.Sequential()\n",
    "model_2.add(layers.Embedding(10000,64,input_length=200))\n",
    "model_2.add(layers.Conv1D(32,7,activation=\"relu\"))\n",
    "model_2.add(layers.MaxPooling1D(5))\n",
    "model_2.add(layers.Conv1D(32,10,activation=\"relu\"))\n",
    "model_2.add(layers.GlobalMaxPool1D())\n",
    "model_2.add(layers.Dense(46,activation=\"softmax\"))"
   ]
  },
  {
   "cell_type": "code",
   "execution_count": 63,
   "metadata": {},
   "outputs": [],
   "source": [
    "model_2.compile(loss=\"categorical_crossentropy\",optimizer=optimizers.Adam()\n",
    "              ,metrics=[\"categorical_accuracy\"])"
   ]
  },
  {
   "cell_type": "code",
   "execution_count": 67,
   "metadata": {},
   "outputs": [
    {
     "name": "stdout",
     "output_type": "stream",
     "text": [
      "Train on 7185 samples, validate on 1797 samples\n",
      "Epoch 1/20\n",
      "7185/7185 [==============================] - 4s 565us/sample - loss: 3.3247 - categorical_accuracy: 0.3308 - val_loss: 2.5632 - val_categorical_accuracy: 0.3450\n",
      "Epoch 2/20\n",
      "7185/7185 [==============================] - 2s 290us/sample - loss: 2.3213 - categorical_accuracy: 0.3646 - val_loss: 2.1046 - val_categorical_accuracy: 0.3595\n",
      "Epoch 3/20\n",
      "7185/7185 [==============================] - 2s 293us/sample - loss: 1.9875 - categorical_accuracy: 0.4273 - val_loss: 1.8723 - val_categorical_accuracy: 0.4981\n",
      "Epoch 4/20\n",
      "7185/7185 [==============================] - 2s 284us/sample - loss: 1.8020 - categorical_accuracy: 0.5120 - val_loss: 1.7479 - val_categorical_accuracy: 0.5242\n",
      "Epoch 5/20\n",
      "7185/7185 [==============================] - 2s 294us/sample - loss: 1.6724 - categorical_accuracy: 0.5304 - val_loss: 1.6645 - val_categorical_accuracy: 0.5376\n",
      "Epoch 6/20\n",
      "7185/7185 [==============================] - 2s 294us/sample - loss: 1.5516 - categorical_accuracy: 0.5684 - val_loss: 1.5872 - val_categorical_accuracy: 0.5815\n",
      "Epoch 7/20\n",
      "7185/7185 [==============================] - 2s 298us/sample - loss: 1.4342 - categorical_accuracy: 0.6191 - val_loss: 1.5354 - val_categorical_accuracy: 0.5915\n",
      "Epoch 8/20\n",
      "7185/7185 [==============================] - 2s 294us/sample - loss: 1.3291 - categorical_accuracy: 0.6409 - val_loss: 1.5010 - val_categorical_accuracy: 0.6060\n",
      "Epoch 9/20\n",
      "7185/7185 [==============================] - 2s 302us/sample - loss: 1.2280 - categorical_accuracy: 0.6775 - val_loss: 1.4801 - val_categorical_accuracy: 0.6266\n",
      "Epoch 10/20\n",
      "7185/7185 [==============================] - 2s 295us/sample - loss: 1.1247 - categorical_accuracy: 0.7132 - val_loss: 1.4751 - val_categorical_accuracy: 0.6377\n",
      "Epoch 11/20\n",
      "7185/7185 [==============================] - 2s 293us/sample - loss: 1.0204 - categorical_accuracy: 0.7420 - val_loss: 1.4891 - val_categorical_accuracy: 0.6400\n",
      "Epoch 12/20\n",
      "7185/7185 [==============================] - 2s 286us/sample - loss: 0.9204 - categorical_accuracy: 0.7640 - val_loss: 1.5058 - val_categorical_accuracy: 0.6505\n",
      "Epoch 13/20\n",
      "7185/7185 [==============================] - 2s 290us/sample - loss: 0.8273 - categorical_accuracy: 0.7900 - val_loss: 1.5413 - val_categorical_accuracy: 0.6472\n",
      "Epoch 14/20\n",
      "7185/7185 [==============================] - 2s 291us/sample - loss: 0.7370 - categorical_accuracy: 0.8109 - val_loss: 1.5994 - val_categorical_accuracy: 0.6500\n",
      "Epoch 15/20\n",
      "7185/7185 [==============================] - 2s 300us/sample - loss: 0.6484 - categorical_accuracy: 0.8334 - val_loss: 1.6617 - val_categorical_accuracy: 0.6578\n",
      "Epoch 16/20\n",
      "7185/7185 [==============================] - 2s 295us/sample - loss: 0.5681 - categorical_accuracy: 0.8569 - val_loss: 1.7046 - val_categorical_accuracy: 0.6628\n",
      "Epoch 17/20\n",
      "7185/7185 [==============================] - 2s 303us/sample - loss: 0.5011 - categorical_accuracy: 0.8777 - val_loss: 1.7778 - val_categorical_accuracy: 0.6661\n",
      "Epoch 18/20\n",
      "7185/7185 [==============================] - 2s 292us/sample - loss: 0.4445 - categorical_accuracy: 0.8948 - val_loss: 1.8775 - val_categorical_accuracy: 0.6672\n",
      "Epoch 19/20\n",
      "7185/7185 [==============================] - 2s 300us/sample - loss: 0.3922 - categorical_accuracy: 0.9079 - val_loss: 1.9376 - val_categorical_accuracy: 0.6689\n",
      "Epoch 20/20\n",
      "7185/7185 [==============================] - 2s 287us/sample - loss: 0.3411 - categorical_accuracy: 0.9236 - val_loss: 1.9835 - val_categorical_accuracy: 0.6750\n"
     ]
    }
   ],
   "source": [
    "with tf.device(\"/gpu:0\"):\n",
    "    history_2=model_2.fit(x_train,y_train,epochs=20,batch_size=300,validation_split=0.2)"
   ]
  },
  {
   "cell_type": "code",
   "execution_count": 68,
   "metadata": {},
   "outputs": [],
   "source": [
    "import matplotlib.pyplot as plt"
   ]
  },
  {
   "cell_type": "code",
   "execution_count": 70,
   "metadata": {},
   "outputs": [
    {
     "data": {
      "text/plain": [
       "<matplotlib.legend.Legend at 0x7fad4c262f50>"
      ]
     },
     "execution_count": 70,
     "metadata": {},
     "output_type": "execute_result"
    },
    {
     "data": {
      "image/png": "[encoded data removed]",
      "text/plain": [
       "<Figure size 432x720 with 2 Axes>"
      ]
     },
     "metadata": {
      "needs_background": "light"
     },
     "output_type": "display_data"
    }
   ],
   "source": [
    "data=history_2.history\n",
    "plt.figure(figsize=(6,10))\n",
    "plt.subplot(2,1,1)\n",
    "plt.plot(range(1,21),data[\"loss\"],label=\"training_loss\")\n",
    "plt.plot(range(1,21),data[\"val_loss\"],label=\"validation_loss\")\n",
    "plt.legend()\n",
    "plt.subplot(2,1,2)\n",
    "plt.plot(range(1,21),data[\"categorical_accuracy\"],label=\"training_acc\")\n",
    "plt.plot(range(1,21),data[\"val_categorical_accuracy\"],label=\"validation_acc\")\n",
    "plt.legend()"
   ]
  },
  {
   "cell_type": "markdown",
   "metadata": {},
   "source": [
    "# conclusion model_2 overfitted after epoch 9"
   ]
  },
  {
   "cell_type": "code",
   "execution_count": 71,
   "metadata": {},
   "outputs": [],
   "source": [
    "x_test=sequence.pad_sequences(x_test,maxlen=200)\n",
    "y_pred=model_2.predict(x_test)"
   ]
  },
  {
   "cell_type": "code",
   "execution_count": null,
   "metadata": {},
   "outputs": [],
   "source": []
  },
  {
   "cell_type": "code",
   "execution_count": null,
   "metadata": {},
   "outputs": [],
   "source": []
  },
  {
   "cell_type": "code",
   "execution_count": null,
   "metadata": {},
   "outputs": [],
   "source": []
  }
 ],
 "metadata": {
  "kernelspec": {
   "display_name": "Python 3",
   "language": "python",
   "name": "python3"
  },
  "language_info": {
   "codemirror_mode": {
    "name": "ipython",
    "version": 3
   },
   "file_extension": ".py",
   "mimetype": "text/x-python",
   "name": "python",
   "nbconvert_exporter": "python",
   "pygments_lexer": "ipython3",
   "version": "3.7.6"
  }
 },
 "nbformat": 4,
 "nbformat_minor": 4
}
